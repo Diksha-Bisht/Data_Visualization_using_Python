{
  "nbformat": 4,
  "nbformat_minor": 0,
  "metadata": {
    "colab": {
      "name": "Assignment 1_Line_plot",
      "provenance": [],
      "collapsed_sections": [
        "MZmaZ8kBut3O",
        "HePAkz3Xa-xX",
        "URRbWlUptxR4",
        "LQuhbaIVwoQZ",
        "leBaPYJZ04vY"
      ],
      "toc_visible": true,
      "authorship_tag": "ABX9TyPfeI/3ZFGb9dQJougULE2X",
      "include_colab_link": true
    },
    "kernelspec": {
      "name": "python3",
      "display_name": "Python 3"
    },
    "language_info": {
      "name": "python"
    }
  },
  "cells": [
    {
      "cell_type": "markdown",
      "metadata": {
        "id": "view-in-github",
        "colab_type": "text"
      },
      "source": [
        "<a href=\"https://colab.research.google.com/github/Diksha-Bisht/Data_Visualization_using_Python/blob/main/Assignment_1_Line_plot.ipynb\" target=\"_parent\"><img src=\"https://colab.research.google.com/assets/colab-badge.svg\" alt=\"Open In Colab\"/></a>"
      ]
    },
    {
      "cell_type": "markdown",
      "metadata": {
        "id": "ZcDwPXbhSfLW"
      },
      "source": [
        "**Date**-05/07/2021\n",
        "\n",
        "**Assignment-1**"
      ]
    },
    {
      "cell_type": "markdown",
      "metadata": {
        "id": "MZmaZ8kBut3O"
      },
      "source": [
        "#Personal details\n",
        "\n"
      ]
    },
    {
      "cell_type": "markdown",
      "metadata": {
        "id": "0fJL0FZdvDqd"
      },
      "source": [
        "Name- Diksha Bisht\n",
        "\n",
        "E-mail - bishtdiksha096@gmail.com\n",
        "\n",
        "User name- diksha_bisht\n",
        "\n",
        "Program- Data Visualization Using Python\n"
      ]
    },
    {
      "cell_type": "markdown",
      "metadata": {
        "id": "HePAkz3Xa-xX"
      },
      "source": [
        "# Question 1\n",
        "\n",
        "x= np.arange(0,10)\n",
        "\n",
        "y=x*x\n",
        "\n",
        "Plot a line plot."
      ]
    },
    {
      "cell_type": "code",
      "metadata": {
        "id": "BbuDZuo3T3vp"
      },
      "source": [
        "# Importing libraries\n",
        "import numpy as np\n",
        "import pandas as pd\n",
        "import seaborn as sb\n",
        "import matplotlib as mpl\n",
        "import matplotlib.pyplot as plt\n",
        "%matplotlib inline "
      ],
      "execution_count": null,
      "outputs": []
    },
    {
      "cell_type": "code",
      "metadata": {
        "colab": {
          "base_uri": "https://localhost:8080/"
        },
        "id": "er1DbVNLRDwB",
        "outputId": "89d49d35-fc15-4e05-d445-400b85c6a211"
      },
      "source": [
        "# assigning variables x and y with values of question\n",
        "x=np.arange(0,10)\n",
        "y= x*x\n",
        "print( x,'\\n',y)"
      ],
      "execution_count": null,
      "outputs": [
        {
          "output_type": "stream",
          "text": [
            "[0 1 2 3 4 5 6 7 8 9] \n",
            " [ 0  1  4  9 16 25 36 49 64 81]\n"
          ],
          "name": "stdout"
        }
      ]
    },
    {
      "cell_type": "code",
      "metadata": {
        "colab": {
          "base_uri": "https://localhost:8080/"
        },
        "id": "9oUXWyGMVBWy",
        "outputId": "e31b11cf-09ea-4f48-8e56-5aaeda5eb379"
      },
      "source": [
        "plt.style.use('seaborn-whitegrid')\n",
        "plt.plot(x, y, 'gs-.', linewidth=2, markersize=8)              # gs-. implies color='green', marker='square', linestyle='line-dashed'\n",
        "plt.title(\"x vs x square line plot\")\n",
        "plt.xlabel(\"x values\",color='r' )\n",
        "plt.ylabel(\"x square values\",color='r')\n",
        "plt.show()"
      ],
      "execution_count": null,
      "outputs": [
        {
          "output_type": "display_data",
          "data": {
            "image/png": "[encoded data removed]",
            "text/plain": [
              "<Figure size 432x288 with 1 Axes>"
            ]
          },
          "metadata": {
            "tags": []
          }
        }
      ]
    },
    {
      "cell_type": "code",
      "metadata": {
        "id": "HROiNND3eZSo"
      },
      "source": [
        ""
      ],
      "execution_count": null,
      "outputs": []
    },
    {
      "cell_type": "markdown",
      "metadata": {
        "id": "URRbWlUptxR4"
      },
      "source": [
        "# Question 2\n",
        "\n",
        "day= [1,2,3,4,5,6,7]\n",
        "\n",
        "sales1= [160,150,140,145,175,165,180]\n",
        "\n",
        "sales2= [70,90,160,150,140,145,175]\n",
        "\n",
        "Plot a line plot"
      ]
    },
    {
      "cell_type": "code",
      "metadata": {
        "id": "PuLvTfFwdoLf"
      },
      "source": [
        "# Importing libraries\n",
        "import numpy as np\n",
        "import pandas as pd\n",
        "import seaborn as sb\n",
        "import matplotlib as mpl\n",
        "import matplotlib.pyplot as plt\n",
        "%matplotlib inline "
      ],
      "execution_count": null,
      "outputs": []
    },
    {
      "cell_type": "code",
      "metadata": {
        "colab": {
          "base_uri": "https://localhost:8080/"
        },
        "id": "58RF2x9ndOgq",
        "outputId": "913c333f-66fa-4c0b-ac4d-4746d35b9df2"
      },
      "source": [
        "# assigning variables day, sales1 and sales2 with values of question\n",
        "day= [1,2,3,4,5,6,7]\n",
        "sales1= [160,150,140,145,175,165,180]\n",
        "sales2= [70,90,160,150,140,145,175]\n",
        "print(day,'\\n',sales1,'\\n',sales2)"
      ],
      "execution_count": null,
      "outputs": [
        {
          "output_type": "stream",
          "text": [
            "[1, 2, 3, 4, 5, 6, 7] \n",
            " [160, 150, 140, 145, 175, 165, 180] \n",
            " [70, 90, 160, 150, 140, 145, 175]\n"
          ],
          "name": "stdout"
        }
      ]
    },
    {
      "cell_type": "code",
      "metadata": {
        "colab": {
          "base_uri": "https://localhost:8080/"
        },
        "id": "AGFnJclJeZWC",
        "outputId": "dcdb6b26-b411-450c-b35d-5da9a44204ff"
      },
      "source": [
        "plt.style.use('seaborn-whitegrid')\n",
        "plt.plot(day,sales1,'bo--',linewidth=2, markersize=8)\n",
        "plt.plot(day,sales2,'gs-',linewidth=2, markersize=8)\n",
        "plt.title('day vs sales line plot', color='g')\n",
        "plt.xlabel('Day')\n",
        "plt.ylabel('Sales')\n",
        "plt.show()"
      ],
      "execution_count": null,
      "outputs": [
        {
          "output_type": "display_data",
          "data": {
            "image/png": "[encoded data removed]",
            "text/plain": [
              "<Figure size 432x288 with 1 Axes>"
            ]
          },
          "metadata": {
            "tags": []
          }
        }
      ]
    },
    {
      "cell_type": "markdown",
      "metadata": {
        "id": "LQuhbaIVwoQZ"
      },
      "source": [
        "# Question 3\n",
        "\n",
        "x=[1,2,3,4]\n",
        "\n",
        "y1=[4,3,2,1]\n",
        "\n",
        "y2=[10,20,30,40]\n",
        "\n",
        "y3=[40,30,20,10]\n",
        "\n",
        "y4=[1,2,1,2]\n",
        "\n",
        "y5=[40,70,90,70]\n",
        "\n",
        "Plot subplot of above data pairing y with x\n"
      ]
    },
    {
      "cell_type": "code",
      "metadata": {
        "id": "3vEIeQtNxlCH"
      },
      "source": [
        "# Importing libraries\n",
        "import numpy as np\n",
        "import pandas as pd\n",
        "import seaborn as sb\n",
        "import matplotlib as mpl\n",
        "import matplotlib.pyplot as plt\n",
        "%matplotlib inline "
      ],
      "execution_count": null,
      "outputs": []
    },
    {
      "cell_type": "code",
      "metadata": {
        "colab": {
          "base_uri": "https://localhost:8080/"
        },
        "id": "sSz6dHnVxkhZ",
        "outputId": "31d5359a-0af1-43d8-90ce-adc825409fe6"
      },
      "source": [
        "# Initilizing variables with data in Question\n",
        "x=[1,2,3,4]\n",
        "y1=[4,3,2,1]\n",
        "y2=[10,20,30,40]\n",
        "y3=[40,30,20,10]\n",
        "y4=[1,2,1,2]\n",
        "y5=[40,70,90,70]\n",
        "\n",
        "print(x,'\\n',y1,'\\n',y2,'\\n',y3,'\\n',y4,'\\n',y5)"
      ],
      "execution_count": null,
      "outputs": [
        {
          "output_type": "stream",
          "text": [
            "[1, 2, 3, 4] \n",
            " [4, 3, 2, 1] \n",
            " [10, 20, 30, 40] \n",
            " [40, 30, 20, 10] \n",
            " [1, 2, 1, 2] \n",
            " [40, 70, 90, 70]\n"
          ],
          "name": "stdout"
        }
      ]
    },
    {
      "cell_type": "code",
      "metadata": {
        "colab": {
          "base_uri": "https://localhost:8080/"
        },
        "id": "qlq6VTmOyUAZ",
        "outputId": "417ea0f7-f166-4070-b919-a3c12282a1f1"
      },
      "source": [
        "#Ploting subplot\n",
        "plt.subplot(3,3,1)\n",
        "plt.plot(x,y1,color='yellowgreen',marker='h',markerfacecolor='green',markersize=8,linestyle=':',linewidth=2)\n",
        "plt.subplot(3,3,2)\n",
        "plt.plot(x,y2,color='violet',marker='o',markerfacecolor='blue',markersize=6,linestyle='--',linewidth=2)\n",
        "plt.subplot(3,3,3)\n",
        "plt.plot(x,y3,color='navy',marker='s',markerfacecolor='skyblue',markersize=6,linestyle='-',linewidth=2)\n",
        "plt.subplot(3,3,4)\n",
        "plt.plot(x,y4,color='red',marker='d',markerfacecolor='pink',markersize=6,linestyle='-.',linewidth=2)\n",
        "plt.subplot(3,3,5)\n",
        "plt.plot(x,y5,color='brown',marker='x',markerfacecolor='wheat',markersize=6,linestyle=':',linewidth=2)"
      ],
      "execution_count": null,
      "outputs": [
        {
          "output_type": "execute_result",
          "data": {
            "text/plain": [
              "[<matplotlib.lines.Line2D at 0x7f49143db390>]"
            ]
          },
          "metadata": {
            "tags": []
          },
          "execution_count": 24
        },
        {
          "output_type": "display_data",
          "data": {
            "image/png": "[encoded data removed]",
            "text/plain": [
              "<Figure size 432x288 with 5 Axes>"
            ]
          },
          "metadata": {
            "tags": [],
            "needs_background": "light"
          }
        }
      ]
    },
    {
      "cell_type": "markdown",
      "metadata": {
        "id": "leBaPYJZ04vY"
      },
      "source": [
        "# Question 4\n",
        "\n",
        "a= np.arange(40,50)\n",
        "\n",
        "b=np.arange(50,60)\n",
        "\n",
        "Plot a line plot"
      ]
    },
    {
      "cell_type": "code",
      "metadata": {
        "id": "Ul5Ac1xl1Lnn"
      },
      "source": [
        "# Importing libraries\n",
        "import numpy as np\n",
        "import pandas as pd\n",
        "import seaborn as sb\n",
        "import matplotlib as mpl\n",
        "import matplotlib.pyplot as plt\n",
        "%matplotlib inline "
      ],
      "execution_count": null,
      "outputs": []
    },
    {
      "cell_type": "code",
      "metadata": {
        "colab": {
          "base_uri": "https://localhost:8080/"
        },
        "id": "-WUUGC5z1QgS",
        "outputId": "8d6aa2bf-8966-48a1-d3a4-36cab89f91f1"
      },
      "source": [
        "# Initializing variables with data in Question\n",
        "a= np.arange(40,50)\n",
        "b=np.arange(50,60)\n",
        "\n",
        "print(a,'\\n',b)"
      ],
      "execution_count": null,
      "outputs": [
        {
          "output_type": "stream",
          "text": [
            "[40 41 42 43 44 45 46 47 48 49] \n",
            " [50 51 52 53 54 55 56 57 58 59]\n"
          ],
          "name": "stdout"
        }
      ]
    },
    {
      "cell_type": "code",
      "metadata": {
        "colab": {
          "base_uri": "https://localhost:8080/"
        },
        "id": "daC2vT7E1lHZ",
        "outputId": "39d22a68-0f7a-4c08-f08b-d6b6f3520d02"
      },
      "source": [
        "plt.style.use('seaborn-whitegrid')\n",
        "plt.plot(a,b,'mx-',markersize=6, linewidth=1)\n",
        "plt.title('a vs b line plot', color='navy')\n",
        "plt.xlabel('a values', color='teal')\n",
        "plt.ylabel('b values', color='teal')"
      ],
      "execution_count": null,
      "outputs": [
        {
          "output_type": "execute_result",
          "data": {
            "text/plain": [
              "Text(0, 0.5, 'b values')"
            ]
          },
          "metadata": {
            "tags": []
          },
          "execution_count": 27
        },
        {
          "output_type": "display_data",
          "data": {
            "image/png": "[encoded data removed]",
            "text/plain": [
              "<Figure size 432x288 with 1 Axes>"
            ]
          },
          "metadata": {
            "tags": []
          }
        }
      ]
    }
  ]
}