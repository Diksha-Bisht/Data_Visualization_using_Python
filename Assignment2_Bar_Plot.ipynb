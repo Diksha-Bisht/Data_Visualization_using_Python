{
  "nbformat": 4,
  "nbformat_minor": 0,
  "metadata": {
    "colab": {
      "name": "Assignment2_Bar_Plot.ipynb",
      "provenance": [],
      "collapsed_sections": [
        "WLPY2qCbxWHF"
      ],
      "toc_visible": true,
      "authorship_tag": "ABX9TyMKgl1AJWQZyAerPShxTXUC",
      "include_colab_link": true
    },
    "kernelspec": {
      "name": "python3",
      "display_name": "Python 3"
    },
    "language_info": {
      "name": "python"
    }
  },
  "cells": [
    {
      "cell_type": "markdown",
      "metadata": {
        "id": "view-in-github",
        "colab_type": "text"
      },
      "source": [
        "<a href=\"https://colab.research.google.com/github/Diksha-Bisht/Data_Visualization_using_Python/blob/main/Assignment2_Bar_Plot.ipynb\" target=\"_parent\"><img src=\"https://colab.research.google.com/assets/colab-badge.svg\" alt=\"Open In Colab\"/></a>"
      ]
    },
    {
      "cell_type": "markdown",
      "metadata": {
        "id": "8HcWYSDpxzes"
      },
      "source": [
        "**Date**-05/07/2021\n",
        "\n",
        "**Assignment-2**\n",
        "\n",
        "***Bar Plot***"
      ]
    },
    {
      "cell_type": "markdown",
      "metadata": {
        "id": "TiTN_BS_x2Jt"
      },
      "source": [
        "# Personal Details\n",
        "\n",
        "Name- Diksha Bisht\n",
        "\n",
        "E-mail - bishtdiksha096@gmail.com\n",
        "\n",
        "User name- diksha_bisht\n",
        "\n",
        "Program- Data Visualization Using Python"
      ]
    },
    {
      "cell_type": "markdown",
      "metadata": {
        "id": "WLPY2qCbxWHF"
      },
      "source": [
        "# Question1\n",
        "\n",
        "Create a dataframe with 10 rows on random numbers and 4 columns, (column labelled as a,b,c,d) and plot a bar chart."
      ]
    },
    {
      "cell_type": "code",
      "metadata": {
        "id": "pk27kZl4xxyD"
      },
      "source": [
        "# Importing libraries\n",
        "import pandas as pd\n",
        "import numpy as np \n",
        "import seaborn as sb\n",
        "import matplotlib as mpl \n",
        "import matplotlib.pyplot as plt\n",
        "from numpy.random import randn, randint, uniform, sample\n",
        "%matplotlib inline"
      ],
      "execution_count": 30,
      "outputs": []
    },
    {
      "cell_type": "code",
      "metadata": {
        "colab": {
          "base_uri": "https://localhost:8080/",
          "height": 172
        },
        "id": "MP4FYK6MzKLk",
        "outputId": "1334c32f-05f5-4e34-e385-a08337d5d0c1"
      },
      "source": [
        "# Initializing variables with data in Question\n",
        "df = pd.DataFrame(randn(10,4),columns=['a','b','c','d'])\n",
        "\n",
        "# Printing top 4 rows \n",
        "df.head(4)\n"
      ],
      "execution_count": 31,
      "outputs": [
        {
          "output_type": "execute_result",
          "data": {
            "text/html": [
              "<div>\n",
              "<style scoped>\n",
              "    .dataframe tbody tr th:only-of-type {\n",
              "        vertical-align: middle;\n",
              "    }\n",
              "\n",
              "    .dataframe tbody tr th {\n",
              "        vertical-align: top;\n",
              "    }\n",
              "\n",
              "    .dataframe thead th {\n",
              "        text-align: right;\n",
              "    }\n",
              "</style>\n",
              "<table border=\"1\" class=\"dataframe\">\n",
              "  <thead>\n",
              "    <tr style=\"text-align: right;\">\n",
              "      <th></th>\n",
              "      <th>a</th>\n",
              "      <th>b</th>\n",
              "      <th>c</th>\n",
              "      <th>d</th>\n",
              "    </tr>\n",
              "  </thead>\n",
              "  <tbody>\n",
              "    <tr>\n",
              "      <th>0</th>\n",
              "      <td>0.197027</td>\n",
              "      <td>0.998986</td>\n",
              "      <td>0.085387</td>\n",
              "      <td>0.304116</td>\n",
              "    </tr>\n",
              "    <tr>\n",
              "      <th>1</th>\n",
              "      <td>0.222979</td>\n",
              "      <td>0.666632</td>\n",
              "      <td>-1.331021</td>\n",
              "      <td>-0.216703</td>\n",
              "    </tr>\n",
              "    <tr>\n",
              "      <th>2</th>\n",
              "      <td>-1.358845</td>\n",
              "      <td>-0.941701</td>\n",
              "      <td>-1.645266</td>\n",
              "      <td>-0.694124</td>\n",
              "    </tr>\n",
              "    <tr>\n",
              "      <th>3</th>\n",
              "      <td>0.488460</td>\n",
              "      <td>-1.158542</td>\n",
              "      <td>3.522055</td>\n",
              "      <td>-0.560965</td>\n",
              "    </tr>\n",
              "  </tbody>\n",
              "</table>\n",
              "</div>"
            ],
            "text/plain": [
              "          a         b         c         d\n",
              "0  0.197027  0.998986  0.085387  0.304116\n",
              "1  0.222979  0.666632 -1.331021 -0.216703\n",
              "2 -1.358845 -0.941701 -1.645266 -0.694124\n",
              "3  0.488460 -1.158542  3.522055 -0.560965"
            ]
          },
          "metadata": {
            "tags": []
          },
          "execution_count": 31
        }
      ]
    },
    {
      "cell_type": "code",
      "metadata": {
        "colab": {
          "base_uri": "https://localhost:8080/",
          "height": 635
        },
        "id": "E1WDmOtu6Bqk",
        "outputId": "98f2df1c-c86a-4d97-8b89-4482c0bf7e20"
      },
      "source": [
        "#Ploting Bar plot\n",
        "df.plot(kind='bar', xlabel='x-axis', width=0.6, ylabel='y-axis', figsize=[18,10], title='Bar plot for sample dataset', grid=True,color=['red','blue','black','orange'])"
      ],
      "execution_count": 32,
      "outputs": [
        {
          "output_type": "execute_result",
          "data": {
            "text/plain": [
              "<matplotlib.axes._subplots.AxesSubplot at 0x7f370da5ee90>"
            ]
          },
          "metadata": {
            "tags": []
          },
          "execution_count": 32
        },
        {
          "output_type": "display_data",
          "data": {
            "image/png": "[encoded data removed]",
            "text/plain": [
              "<Figure size 1296x720 with 1 Axes>"
            ]
          },
          "metadata": {
            "tags": [],
            "needs_background": "light"
          }
        }
      ]
    }
  ]
}